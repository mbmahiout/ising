{
 "cells": [
  {
   "cell_type": "code",
   "execution_count": 11,
   "metadata": {},
   "outputs": [],
   "source": [
    "import sys\n",
    "path2cpp_pkg = \"/Users/mariusmahiout/Documents/repos/ising_core/build\"\n",
    "sys.path.append(path2cpp_pkg)\n",
    "import ising\n",
    "\n",
    "import os\n",
    "os.chdir(\"/Users/mariusmahiout/Documents/repos/ising_core/python\")\n",
    "\n",
    "import src.misc_plotting as plotting\n",
    "import src.utils as utils\n",
    "import src.model_eval as eval\n",
    "\n",
    "import numpy as np\n",
    "import time"
   ]
  },
  {
   "cell_type": "code",
   "execution_count": 5,
   "metadata": {},
   "outputs": [],
   "source": [
    "num_units = 10\n",
    "num_sims = 15000\n",
    "num_burn = 1000\n",
    "lr = 0.01\n",
    "max_steps = 5000"
   ]
  },
  {
   "cell_type": "code",
   "execution_count": 6,
   "metadata": {},
   "outputs": [
    {
     "name": "stdout",
     "output_type": "stream",
     "text": [
      "Simulation took 0.02 seconds.\n"
     ]
    }
   ],
   "source": [
    "##############\n",
    "# SIMULATION #\n",
    "##############\n",
    "\n",
    "# setting up model\n",
    "beta = 1.3\n",
    "h = np.random.uniform(-.3 * beta, .3 * beta, num_units)\n",
    "J = np.random.normal(0,  beta / np.sqrt(num_units), (num_units, num_units))\n",
    "for i in range(num_units):\n",
    "    J[i, i] = 0\n",
    "    for j in range(i+1, num_units):\n",
    "        J[j, i] = J[i, j]\n",
    "\n",
    "true_model = ising.EqModel(num_units, J, h)\n",
    "\n",
    "# simulating\n",
    "t0 = time.time()\n",
    "\n",
    "true_sim = true_model.simulate(num_sims, num_burn)\n",
    "\n",
    "t1 = time.time()\n",
    "dt = t1 - t0\n",
    "print(\"Simulation took {:.2f} seconds.\".format(dt))"
   ]
  },
  {
   "cell_type": "code",
   "execution_count": 7,
   "metadata": {},
   "outputs": [
    {
     "name": "stdout",
     "output_type": "stream",
     "text": [
      "Inference took 134.49 seconds.\n"
     ]
    }
   ],
   "source": [
    "#############\n",
    "# INFERENCE #\n",
    "#############\n",
    "\n",
    "# setting up model\n",
    "h_init = np.random.uniform(-1.5, 1.5, num_units)\n",
    "J_init = np.random.normal(0,  1,  (num_units, num_units))\n",
    "J_init = (J_init.T + J_init) * np.sqrt(2) / 2\n",
    "\n",
    "ml_model = ising.EqModel(num_units, J_init, h_init)\n",
    "\n",
    "# inference\n",
    "t0 = time.time()\n",
    "\n",
    "ising.setMaxLikelihoodParamsEqModel(ml_model, true_sim, max_steps, lr, num_sims, num_burn)\n",
    "\n",
    "t1 = time.time()\n",
    "dt = t1 - t0\n",
    "print(\"Inference took {:.2f} seconds.\".format(dt))"
   ]
  },
  {
   "cell_type": "code",
   "execution_count": 15,
   "metadata": {},
   "outputs": [],
   "source": [
    "##############\n",
    "# SIMULATION #\n",
    "##############\n",
    "\n",
    "ml_sim = ml_model.simulate(num_sims, num_burn)"
   ]
  },
  {
   "cell_type": "code",
   "execution_count": 8,
   "metadata": {},
   "outputs": [],
   "source": [
    "def get_metadata(\n",
    "    num_units,\n",
    "    is_empirical_analysis,\n",
    "    eq_inv_methods=[],\n",
    "    neq_inv_methods=[],\n",
    "    **kwargs\n",
    "):\n",
    "    metadata = {}\n",
    "    metadata[\"num_units\"] = num_units\n",
    "\n",
    "    if is_empirical_analysis:\n",
    "        bin_width = kwargs['bin_width']\n",
    "        num_bins = kwargs['num_bins']\n",
    "        metadata['bin_width'] = bin_width\n",
    "    else:\n",
    "        num_sims = kwargs['num_sims']\n",
    "        num_burn = kwargs.get('num_burn', 1000)\n",
    "        true_fields = kwargs['true_fields']\n",
    "        true_couplings = kwargs['true_couplings']\n",
    "        metadata[\"true_model\"] = {\n",
    "            'true_fields' : true_fields,\n",
    "            'true_couplings' : true_couplings,\n",
    "            'num_sims' : num_sims,\n",
    "            'num_burn' : num_burn,\n",
    "        }\n",
    "\n",
    "    if (eq_inv_methods != []) or (neq_inv_methods != []):\n",
    "        metadata[\"inverse_methods\"] = {\n",
    "            'EQ' : eq_inv_methods,\n",
    "            'NEQ' : neq_inv_methods,\n",
    "        }\n",
    "        if ('ML' in eq_inv_methods) or ('ML' in neq_inv_methods):\n",
    "            # each can be dict if multiple ML models with different hyperparams\n",
    "            num_steps = kwargs['num_steps']\n",
    "            learning_rate = kwargs['learning_rate']\n",
    "            is_converged = kwargs['is_converged']\n",
    "            metadata['maximum_likelihood'] = {\n",
    "                'num_steps' : num_steps,\n",
    "                'learning_rate' : learning_rate,\n",
    "                'is_converged' : is_converged,\n",
    "            }\n",
    "        if ('ML' in eq_inv_methods):\n",
    "            num_sims_ml = kwargs['num_sims_ml']\n",
    "            num_burn_ml = kwargs.get('num_burn_ml', 1000)\n",
    "            metadata['maximum_likelihood']['num_sims'] = num_sims_ml\n",
    "            metadata['maximum_likelihood']['num_burn'] = num_burn_ml\n",
    "    return metadata"
   ]
  },
  {
   "cell_type": "code",
   "execution_count": 17,
   "metadata": {},
   "outputs": [
    {
     "data": {
      "application/vnd.jupyter.widget-view+json": {
       "model_id": "02a4d7d022d94ac78fa34763ba3c18ca",
       "version_major": 2,
       "version_minor": 0
      },
      "text/plain": [
       "VBox(children=(FigureWidget({\n",
       "    'data': [{'legendgroup': 'ML',\n",
       "              'marker': {'color': 'blue', 'si…"
      ]
     },
     "metadata": {},
     "output_type": "display_data"
    }
   ],
   "source": [
    "labels = [\"ML\"]\n",
    "metadata = get_metadata(\n",
    "    num_units=num_units,\n",
    "    is_empirical_analysis=False,\n",
    "    eq_inv_methods=labels,\n",
    "    num_sims=num_sims,\n",
    "    true_fields=\"uniform(-.3 * beta, .3 * beta); beta=1.3\",\n",
    "    true_couplings=\"normal(0,  beta / sqrt(num_units)); symmetric, beta=1.3\",\n",
    "    num_steps=max_steps,\n",
    "    learning_rate=lr,\n",
    "    is_converged=None,\n",
    "    num_sims_ml=num_sims,\n",
    "    num_burn_ml=num_burn,\n",
    ")\n",
    "\n",
    "\n",
    "def get_analysis_path(analysis_name, num_units, bin_width):\n",
    "    analysis_path = '../analyses/'\n",
    "    dir_name = f'n{num_units}b{bin_width}{analysis_name}'\n",
    "    analysis_path += f'./{dir_name}/'\n",
    "    return analysis_path\n",
    "\n",
    "\n",
    "analysis_name = \"test\"\n",
    "bin_width = 0\n",
    "analysis_path = get_analysis_path(analysis_name, num_units, bin_width)\n",
    "\n",
    "layout_spec = {\n",
    "    (\"fields\", \"scatter\"): (1, 1),\n",
    "    (\"means\", \"scatter\"): (1, 2),\n",
    "    (\"couplings\", \"scatter\"): (2, 1),\n",
    "    (\"pcorrs\", \"scatter\"): (2, 2),\n",
    "}\n",
    "\n",
    "ising_eval = eval.IsingEval(\n",
    "    analysis_path=analysis_path, \n",
    "    metadata=metadata, \n",
    "    true_model=true_model, \n",
    "    est_models=[ml_model], \n",
    "    true_sample=true_sim,\n",
    "    est_samples=[ml_sim], \n",
    "    labels=labels,\n",
    "    layout_spec=layout_spec\n",
    ")\n",
    "ising_eval.generate_plots()"
   ]
  },
  {
   "cell_type": "code",
   "execution_count": null,
   "metadata": {},
   "outputs": [],
   "source": []
  },
  {
   "cell_type": "code",
   "execution_count": null,
   "metadata": {},
   "outputs": [],
   "source": []
  },
  {
   "cell_type": "code",
   "execution_count": null,
   "metadata": {},
   "outputs": [],
   "source": [
    "#########\n",
    "# TO-DO #\n",
    "#########\n",
    "\n",
    "# Testing the MCMC sampler\n",
    "# Derive expressions for the 1st and 2nd order moments with indep.-pair couplings,\n",
    "# and make a function for plotting:\n",
    "#   1) direct comparisons (scatter-plot)\n",
    "#   2) error curves like we did before (or better)\n",
    "\n",
    "# Implement the remaining inverse methods\n",
    "#   - Pseudolikelihood maximization for the EQ model\n",
    "#   - Mean-field methods\n",
    "#   - etc.\n",
    "#   - NEQ inverse methods\n",
    "# Note: I'd like to reproduce some of the plots in Nguyen et al.\n",
    "\n",
    "# Note2: Don't make a mess of the python implementation just because we're making a bigger \n",
    "# and badder version here: I'd like to be able to document some of the performance gains\n",
    "# (e.g., in a blog post on my website)"
   ]
  }
 ],
 "metadata": {
  "kernelspec": {
   "display_name": "ising_env",
   "language": "python",
   "name": "python3"
  },
  "language_info": {
   "codemirror_mode": {
    "name": "ipython",
    "version": 3
   },
   "file_extension": ".py",
   "mimetype": "text/x-python",
   "name": "python",
   "nbconvert_exporter": "python",
   "pygments_lexer": "ipython3",
   "version": "3.12.1"
  },
  "orig_nbformat": 4,
  "vscode": {
   "interpreter": {
    "hash": "e4b2a17a10a08aa999978f2e8c22cb8993313908924239efe5123bc7400ca19a"
   }
  }
 },
 "nbformat": 4,
 "nbformat_minor": 2
}
