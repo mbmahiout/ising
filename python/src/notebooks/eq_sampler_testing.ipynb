{
 "cells": [
  {
   "cell_type": "code",
   "execution_count": null,
   "metadata": {},
   "outputs": [],
   "source": [
    "import os\n",
    "os.chdir(\"/Users/mariusmahiout/Documents/repos/ising_core/python\")\n",
    "\n",
    "from src.sampler_sens import run_sensitivity_analysis\n",
    "\n",
    "os.chdir(\"..\")"
   ]
  },
  {
   "cell_type": "code",
   "execution_count": null,
   "metadata": {},
   "outputs": [],
   "source": [
    "run_sensitivity_analysis(\n",
    "    path=\"./analyses/sampler_sensitivity/sampler_sensitivity.pdf\"\n",
    "    num_runs = 30,\n",
    "    min_units = 3,\n",
    "    max_units = 300,\n",
    "    beta = 1.3,\n",
    "    num_sims = 15_000,\n",
    "    num_burn = 1000,\n",
    "    beta_min = 0.1,\n",
    "    beta_max = 10,\n",
    "    num_units = 50,\n",
    "    sims_min = 1000,\n",
    "    sims_max = 500_000,\n",
    ")"
   ]
  }
 ],
 "metadata": {
  "language_info": {
   "name": "python"
  }
 },
 "nbformat": 4,
 "nbformat_minor": 2
}
