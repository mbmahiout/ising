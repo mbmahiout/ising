{
 "cells": [
  {
   "cell_type": "code",
   "execution_count": 1,
   "metadata": {},
   "outputs": [
    {
     "data": {
      "text/plain": [
       "'/Users/mariusmahiout/Documents/repos/ising_core/python/src'"
      ]
     },
     "execution_count": 1,
     "metadata": {},
     "output_type": "execute_result"
    }
   ],
   "source": [
    "import os\n",
    "os.getcwd()\n",
    "os.chdir(\"../..\")\n",
    "os.getcwd()"
   ]
  },
  {
   "cell_type": "code",
   "execution_count": 4,
   "metadata": {},
   "outputs": [],
   "source": [
    "import sys\n",
    "import os\n",
    "\n",
    "path2cpp_pkg = \"/Users/mariusmahiout/Documents/repos/ising_core/build\"\n",
    "sys.path.append(path2cpp_pkg)\n",
    "\n",
    "import ising\n",
    "import os\n",
    "import sys\n",
    "import time\n",
    "\n",
    "import preprocessing as pre\n",
    "import model_eval as eval\n",
    "import utils as utils\n",
    "import misc_plotting as misc_plotting\n",
    "import isingfitter as fitter\n",
    "\n",
    "os.chdir(\"../..\")\n",
    "os.getcwd()\n",
    "\n",
    "import numpy as np\n",
    "import matplotlib.pyplot as plt\n",
    "import plotly\n",
    "from plotly.subplots import make_subplots\n",
    "import plotly.graph_objs as go\n",
    "import pandas as pd\n",
    "import tqdm\n",
    "\n",
    "from matplotlib import rc\n",
    "rc('font',**{'family':'sans-serif','sans-serif':['Helvetica']})\n",
    "rc('text', usetex=True)\n",
    "import seaborn as sns\n",
    "sns.set_theme()\n",
    "sns.set_style(rc = {'axes.facecolor': '#e5ecf6'})"
   ]
  },
  {
   "cell_type": "code",
   "execution_count": 5,
   "metadata": {},
   "outputs": [],
   "source": [
    "data_folder = \"./data/\"\n",
    "mouse_name = \"Angie\"\n",
    "\n",
    "def load_params(num_units: int, data_folder: str, mouse_name: str):\n",
    "    return np.load(data_folder + \"params/\" + f'params_{mouse_name}_{num_units}.npy', allow_pickle=True).item()\n",
    "\n",
    "num_units_range = range(10, 210, 10)\n",
    "\n",
    "params = dict(\n",
    "    (num_units, load_params(num_units, data_folder, mouse_name)) for num_units in num_units_range\n",
    ")"
   ]
  },
  {
   "cell_type": "code",
   "execution_count": 6,
   "metadata": {},
   "outputs": [],
   "source": [
    "# EQ params\n",
    "eq_couplings = dict(\n",
    "    (num_units, params[num_units][\"eq_couplings\"]) for num_units in num_units_range\n",
    ")\n",
    "eq_fields = dict(\n",
    "    (num_units, params[num_units][\"eq_fields\"]) for num_units in num_units_range\n",
    ")\n",
    "\n",
    "# NEQ params\n",
    "neq_couplings = dict(\n",
    "    (num_units, params[num_units][\"neq_couplings\"]) for num_units in num_units_range\n",
    ")\n",
    "neq_fields = dict(\n",
    "    (num_units, params[num_units][\"neq_fields\"]) for num_units in num_units_range\n",
    ")"
   ]
  },
  {
   "cell_type": "code",
   "execution_count": 7,
   "metadata": {},
   "outputs": [
    {
     "data": {
      "text/plain": [
       "<matplotlib.collections.PathCollection at 0x177ba2a20>"
      ]
     },
     "execution_count": 7,
     "metadata": {},
     "output_type": "execute_result"
    },
    {
     "data": {
      "image/png": "[encoded data removed]",
      "text/plain": [
       "<Figure size 640x480 with 1 Axes>"
      ]
     },
     "metadata": {},
     "output_type": "display_data"
    }
   ],
   "source": [
    "def get_coupling_sums(J):    \n",
    "    num_units = len(J)\n",
    "    coupling_sums = [0 for _ in range(num_units)]\n",
    "    for i in range(num_units):\n",
    "        for j in [k for k in range(num_units) if k != i]:\n",
    "            coupling_sums[i] += J[i, j]\n",
    "    return coupling_sums\n",
    "\n",
    "num_units = 190\n",
    "J_sums = get_coupling_sums(neq_couplings[num_units])\n",
    "\n",
    "plt.scatter(J_sums, neq_fields[num_units])\n"
   ]
  },
  {
   "cell_type": "code",
   "execution_count": 8,
   "metadata": {},
   "outputs": [],
   "source": [
    "def get_av_magnetization(states):\n",
    "    N, num_bins = states.shape\n",
    "    m_av = np.sum(np.abs(np.sum(states, axis=0)) / N)\n",
    "    return m_av / num_bins\n",
    "\n",
    "def get_av_susceptibility(states, T):\n",
    "    N = states.shape[0]\n",
    "    M = np.sum(states, axis=0) # array of length num_bins\n",
    "    M_av = np.mean(M)\n",
    "    M_sq_av = np.mean(M ** 2)\n",
    "    return (M_sq_av - M_av ** 2) / (T * N)"
   ]
  },
  {
   "cell_type": "code",
   "execution_count": null,
   "metadata": {},
   "outputs": [],
   "source": []
  },
  {
   "cell_type": "code",
   "execution_count": null,
   "metadata": {},
   "outputs": [],
   "source": []
  },
  {
   "cell_type": "code",
   "execution_count": null,
   "metadata": {},
   "outputs": [],
   "source": []
  },
  {
   "cell_type": "code",
   "execution_count": null,
   "metadata": {},
   "outputs": [],
   "source": []
  },
  {
   "cell_type": "code",
   "execution_count": null,
   "metadata": {},
   "outputs": [],
   "source": []
  },
  {
   "cell_type": "code",
   "execution_count": null,
   "metadata": {},
   "outputs": [],
   "source": []
  },
  {
   "cell_type": "code",
   "execution_count": null,
   "metadata": {},
   "outputs": [],
   "source": []
  },
  {
   "cell_type": "code",
   "execution_count": null,
   "metadata": {},
   "outputs": [],
   "source": []
  },
  {
   "cell_type": "markdown",
   "metadata": {},
   "source": [
    "# Parameter analysis\n",
    "\n",
    "Here we're going to do a bit of parameter analysis -- this is the place to build plots such as network graphs, coupling distribution plots etc.\n",
    "\n",
    "Some ideas:\n",
    "- Can we say anything about the distribution of couplings? Such as\n",
    "    - Probability distribution\n",
    "    - Network structure (e.g., small-world) Note: maybe check what we might expect in M2 and PPC -- would be great to see some characteristic signs of connectivity!\n",
    "\n",
    "- Are the fields log-normally distributed? I heard somewhere that the mean firing rate should have this distribution, and I guess the fields contribute to this\n"
   ]
  },
  {
   "cell_type": "markdown",
   "metadata": {},
   "source": [
    "- I think the Hamiltonian can be computed on the basis of fields, couplings, and a state, so we can track the energy of states during simulation with this!\n",
    "The energy will basically be a 1-D time series\n",
    "- In this way, can we obtain a distribution over energies by sampling?"
   ]
  }
 ],
 "metadata": {
  "kernelspec": {
   "display_name": "ising_env",
   "language": "python",
   "name": "python3"
  },
  "language_info": {
   "codemirror_mode": {
    "name": "ipython",
    "version": 3
   },
   "file_extension": ".py",
   "mimetype": "text/x-python",
   "name": "python",
   "nbconvert_exporter": "python",
   "pygments_lexer": "ipython3",
   "version": "3.12.1"
  }
 },
 "nbformat": 4,
 "nbformat_minor": 2
}
