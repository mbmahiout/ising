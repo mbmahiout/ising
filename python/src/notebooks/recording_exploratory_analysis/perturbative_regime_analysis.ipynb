{
 "cells": [
  {
   "cell_type": "code",
   "execution_count": null,
   "metadata": {},
   "outputs": [],
   "source": [
    "import sys\n",
    "path2cpp_pkg = \"/Users/mariusmahiout/Documents/repos/ising_core/build\"\n",
    "sys.path.append(path2cpp_pkg)\n",
    "import ising\n",
    "\n",
    "import os\n",
    "os.chdir(\"/Users/mariusmahiout/Documents/repos/ising_core/python/src\")\n",
    "import preprocessing as pre\n",
    "import model_eval as eval\n",
    "import utils as utils\n",
    "import misc_plotting as misc_plotting\n",
    "import isingfitter as fitter\n",
    "os.chdir(\"../..\")\n",
    "print(os.getcwd())\n",
    "\n",
    "import numpy as np\n",
    "import matplotlib.pyplot as plt\n",
    "import plotly\n",
    "from plotly.subplots import make_subplots\n",
    "import plotly.graph_objs as go\n",
    "from IPython.display import display, HTML\n",
    "from ipywidgets import HBox, VBox, widgets\n",
    "import scipy\n",
    "import pandas as pd\n",
    "\n",
    "plotly.offline.init_notebook_mode()\n",
    "display(HTML(\n",
    "    '<script type=\"text/javascript\" async src=\"https://cdnjs.cloudflare.com/ajax/libs/mathjax/2.7.1/MathJax.js?config=TeX-MML-AM_SVG\"></script>'\n",
    "))"
   ]
  },
  {
   "cell_type": "code",
   "execution_count": null,
   "metadata": {},
   "outputs": [],
   "source": [
    "bin_width = 50 # ms\n",
    "num_units = None\n",
    "\n",
    "mouse_name = \"Angie\"\n",
    "# angie performing 1\n",
    "recording1_fname = \"RESULTS_Angie_20170825_1220_allbeh_1000s.mat\"\n",
    "recording2_fname = \"RESULTS_Angie_20170825_1158_allbeh_1000s.mat\"\n",
    "recording3_fname = \"RESULTS_Angie_20170825_1232_allbeh_1000s.mat\"\n",
    "recording4_fname = \"RESULTS_Angie_20170825_1248_allbeh_1000s.mat\"\n",
    "\n",
    "recording_fnames = [\n",
    "    recording1_fname,\n",
    "    recording2_fname,\n",
    "    recording3_fname,\n",
    "    recording4_fname,\n",
    "]\n",
    "for recording_fname in recording_fnames:\n",
    "    print(recording_fname)\n",
    "    sample = pre.get_recording_sample(\n",
    "        fname=recording_fname, \n",
    "        mouse_name=mouse_name, \n",
    "        bin_width=bin_width, \n",
    "        num_units=num_units\n",
    "        )\n",
    "    display(utils.get_recording_summary(sample, bin_width))"
   ]
  },
  {
   "cell_type": "code",
   "execution_count": null,
   "metadata": {},
   "outputs": [],
   "source": [
    "bin_width = 50 # ms\n",
    "num_units = None\n",
    "\n",
    "mouse_name = \"Seven\"\n",
    "# angie performing 1\n",
    "recording1_fname = \"Resulttable_Seven_1504_1813.mat\"\n",
    "recording2_fname = \"Resulttable_Seven_1504_1825.mat\"\n",
    "recording3_fname = \"Resulttable_Seven_1504_1837.mat\"\n",
    "recording4_fname = \"Resulttable_Seven_1504_1850.mat\"\n",
    "\n",
    "recording_fnames = [\n",
    "    recording1_fname,\n",
    "    recording2_fname,\n",
    "    recording3_fname,\n",
    "    recording4_fname,\n",
    "]\n",
    "for recording_fname in recording_fnames:\n",
    "    print(recording_fname)\n",
    "    sample = pre.get_recording_sample(\n",
    "        fname=recording_fname, \n",
    "        mouse_name=mouse_name, \n",
    "        bin_width=bin_width, \n",
    "        num_units=num_units\n",
    "        )\n",
    "    display(utils.get_recording_summary(sample, bin_width))"
   ]
  },
  {
   "cell_type": "code",
   "execution_count": null,
   "metadata": {},
   "outputs": [],
   "source": []
  }
 ],
 "metadata": {
  "kernelspec": {
   "display_name": "ising_env",
   "language": "python",
   "name": "python3"
  },
  "language_info": {
   "codemirror_mode": {
    "name": "ipython",
    "version": 3
   },
   "file_extension": ".py",
   "mimetype": "text/x-python",
   "name": "python",
   "nbconvert_exporter": "python",
   "pygments_lexer": "ipython3",
   "version": "3.12.1"
  }
 },
 "nbformat": 4,
 "nbformat_minor": 2
}
